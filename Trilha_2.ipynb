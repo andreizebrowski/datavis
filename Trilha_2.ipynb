{
 "cells": [
  {
   "cell_type": "markdown",
   "metadata": {},
   "source": [
    "# Trilha 2: E-mail marketing\n",
    "\n",
    "## Contexto\n",
    "\n",
    "### Introdução:\n",
    "Uma montadora de veículos possui duas linhas de carros, uma popular e outra de luxo. O gerente de marketing tem como plano fazer uma envio massivo de mensagens eletrônicas (*E-mail marketing*) divulgando essas linhas de carros. Objetivando maior assertividade e menor custo, o gerente conclui que seria interessante divulgar a linha de luxo para o público que recebe mais de \\$50k/ano e a linha popular para quem recebe menos. Ao verificar sua base de dados de clientes descobre que não possui o quanto cada um recebe por ano, todavia possui diversas outras informações compatíveis com a base de dados disponível do censo do ano passado (1994) do *US Census Bureau*. Não há garantia de que sejam as mesmas pessoas, mas os campos (colunas) são os mesmos. \n",
    "\n",
    "Considerando que cada mensagem deve divulgar apenas uma linha de carros, o orçamento para envio ainda precisa de aprovação, que um indivíduo pode receber até duas mensagens, o acesso a base de clientes é restrito e a limitação de grupos de envio é de até 6, o gerente precisa saber como gerar os agrupamentos para que a relação entre acertos (divulgação da linha de carros certa para o indivíduo com renda anual de acordo) e envios seja alta.\n",
    "\n",
    "### Proposta:\n",
    "\n",
    "O gerente solicita (a diversas *startups* de ciência de dados) que, com base no censo do ano passado, quais filtros devem ser usados para cada grupo, com até 6 grupos, de tal forma que a divulgação das linhas de carros tenha maior acerto com menos envios. \n",
    "\n",
    "### Entrega:\n",
    "\n",
    "Os grupos e os filtros. Exemplo 1, são propostos 3 grupos: 1) idade abaixo de 30, 2) entre 30 e 60 e 3) maior que 60. Exemplo 2, 6 grupos, semelhante ao exemplo 1, adicionando o filtro por sexo. Os grupos são mutualmente exclusivos.\n",
    "\n",
    "### Justificativa:\n",
    "\n",
    "A justificativa deve ser feita via apresentação de um painel de gráficos (*dashboard*), explicando de forma objetiva porque os filtros entregues atendem ao requerido. Pode ser usado o recurso de paneis progressivos (*storyboard*), convergindo no painel principal.\n",
    "\n",
    "### Gerente (público alvo):\n",
    "\n",
    "Recém formado tecnólogo em marketing pela UniRitter: https://www.uniritter.edu.br/graduacao/marketing\n",
    "\n",
    "## Especificações.\n",
    "\n",
    "- 1) Apresentar na forma de painel de gráficos (*dashboard*).\n",
    "- 2) Apresentar e justificar apenas os resultados.\n",
    "- 3) Não precisa explicar os métodos utilizados, mas deve, no mínimo, justificar o uso (durante a apresentação dos resultados).\n",
    "- 4) O painel para apresentação (e possíveis painéis progressivos) deve ser estático e gerado em PDF.\n",
    "- 5) O painel (em PDF) deve ser finalizado e enviado para o professor até às **18:00** do dia da apresentação.\n",
    "- 6) O tempo de apresentação será de 10 minutos por grupo.\n",
    "- 7) É reservado 5 minutos para que o gerente (cliente) faça perguntas e as respostas segam dadas (ou seja, o tempo não sofre pausa).\n",
    "- 8) -\n",
    "- 9) Os grupos devem ser organizar para realizar as apresentações com início às 19:00.\n",
    "- 10) -\n",
    "- 11) -\n",
    "- 12) Apenas um integrante do grupo apresenta;\n",
    "- 13) -\n",
    "- 14) -\n",
    "- 15) -\n",
    "- 16) -\n",
    "- 17) -\n",
    "- 18) É arbitrado ao professor modificar, anular e adicionar itens em qualquer tempo.\n",
    "- 19) É dispensada análise além dos dados disponibilizados. Não discorra sobre detalhes do contexto proposto que vão além dos dados e do que é solicitado. A analise deve ser totalmente orientado aos dados fornecidos.\n",
    "- 20) Não será avaliado pelo professor (e tão pouco verificado) os grupos de filtros propostos, mas, sim, as justificativas e a forma como foram apresentadas.\n",
    "- 21) Não há um desempenho mínimo de assertividade dos filtros, todavia não apresente resultados triviais.\n",
    "\n",
    "## Recomendações.\n",
    "\n",
    "- 1) Não use blocos de textos e não leia durante a apresentação.\n",
    "- 2) Use até 6 quadros ou blocos de gráfico(s) (frames) até dois quadros progressivos (*storyboard*) por quadro.\n",
    "- 3) Não conte a história do trabalho prévio, foque apenas em mostrar e justificar os resultados.\n",
    "- 4) Ensaie a apresentação com um cronômetro com alarme.\n",
    "- 5) Escreva os tópicos a serem tratados com um resumo das explicações e verifique se está coerente com o que é mostrado e se contribui como justificativa. Não há a necessidade de explicar o que deu errado previamente ou demais detalhes da análise que não sirvam como justificativa direta para os resultados.\n",
    "- 6) Não há a necessidade se implementar um método específico para geração dos grupos, todavia, devido ao tamanho reduzido da base, com uma avaliação gráfica geral seguida de extração de *features* já se consegue um bom resultado com justificativa coerente.\n",
    "- 7) Sendo redundante: o objetivo não é ganhar o primeiro lugar num desafio do *Kaggle*, mas é o de fazer uma apresentação clara, objetiva e coerente. Não importa a qualidade do resultado quando a forma como esse é apresentado é inadequada.\n",
    "- 8) Não fique em dúvida, fale com o professor ou com os colegas. Mande e-mail para o professor com a dúvida quando não estiver em aula.\n",
    "\n",
    "## Material de apoio.\n",
    "\n",
    "### Gráficos diversos:\n",
    "\n",
    "### Programas para montar o painel:\n",
    "\n",
    "#### Tableau\n",
    "- Tableau cursos rápidos: https://www.tableau.com/pt-br/learn\n",
    "- Tableau Public, versão gratuita: https://public.tableau.com/pt-br/s/\n",
    "- Tableau Desktop por 14 dias: https://www.tableau.com/pt-br/products/trial\n",
    "- Udacity Data Visualization in Tableau Free course:\n",
    "https://www.udacity.com/course/data-visualization-in-tableau--ud1006\n",
    "\n",
    "#### Qlik Sense\n",
    "- Qlik Sense, versões Cloud e Desktop: https://www.qlik.com/pt-br/products/qlik-sense\n",
    "- Cursos gratuito: https://qcc.qlik.com/course/view.php?id=279\n",
    "\n",
    "\n",
    "#### MS Power BI\n",
    "\n",
    "- Curso gratuito da DSA, Microsoft Power BI para Data Science: https://www.datascienceacademy.com.br/pages/todos-os-cursos-dsa\n",
    "\n",
    "Referências retiradas do cap. 6 do curso citado acima:\n",
    "- Dicas para construir um Dashboard eficiente https://powerbi.microsoft.com/pt-br/documentation/powerbi-service-tips-for-designing-a-great-dashboard/\n",
    "\n",
    "- Painéis no Power BI https://powerbi.microsoft.com/pt-br/documentation/powerbi-service-dashboards/\n",
    "\n",
    "### Após as referências, nesse notebook, é apresentada uma forma de criar três grupos de filtro baseado em idade (sem justificativa).\n",
    "\n",
    "#### Referências:\n",
    "\n",
    "- Adult Census Income: Predict whether income exceeds \\$50K/yr based on census data. Access: https://www.kaggle.com/uciml/adult-census-income\n",
    "\n",
    "- Whose income will exceed 50K? Access: https://www.kaggle.com/jiashenliu/who-can-earn-more-than-50k-per-year\n",
    "\n",
    "--------------------"
   ]
  },
  {
   "cell_type": "markdown",
   "metadata": {},
   "source": [
    "# Verificando os dados:"
   ]
  },
  {
   "cell_type": "code",
   "execution_count": 20,
   "metadata": {},
   "outputs": [
    {
     "name": "stdout",
     "output_type": "stream",
     "text": [
      "{'<=50K': 24720, '>50K': 7841}\n"
     ]
    }
   ],
   "source": [
    "import pandas as pd\n",
    "df = pd.read_csv('adult.csv')\n",
    "target = dict(df['income'].value_counts())\n",
    "print(target)"
   ]
  },
  {
   "cell_type": "markdown",
   "metadata": {},
   "source": [
    "## Sugestão de métrica."
   ]
  },
  {
   "cell_type": "code",
   "execution_count": 28,
   "metadata": {},
   "outputs": [
    {
     "name": "stdout",
     "output_type": "stream",
     "text": [
      "R_max = 1.00\n",
      "R_min = 0.50\n"
     ]
    }
   ],
   "source": [
    "A_Lux_max = target['>50K']\n",
    "A_Pop_max = target['<=50K']\n",
    "Total_envios_min = A_Lux_max+A_Pop_max\n",
    "Total_envios_max = 2*Total_envios_min\n",
    "R_max = (A_Lux_max+A_Pop_max)/Total_envios_min\n",
    "print('R_max = %.2f' %R_max)\n",
    "R_min = (A_Lux_max+A_Pop_max)/Total_envios_max\n",
    "print('R_min = %.2f' %R_min)"
   ]
  },
  {
   "cell_type": "markdown",
   "metadata": {},
   "source": [
    "### Caso de adição de `a` envios com 80\\% de acerto."
   ]
  },
  {
   "cell_type": "code",
   "execution_count": 16,
   "metadata": {},
   "outputs": [
    {
     "name": "stdout",
     "output_type": "stream",
     "text": [
      "R = 0.54\n",
      "C = 1/R = 1.86\n",
      "\n",
      "R' = 0.59\n",
      "C' = 1/R' = 1.70\n"
     ]
    }
   ],
   "source": [
    "a = 10000\n",
    "\n",
    "A = int(0.7*(A_Lux_max+A_Pop_max))\n",
    "E = int(1.3*Total_envios_min)\n",
    "R = A/E\n",
    "print('R = {:.2f}'.format(R))\n",
    "print('C = 1/R = {:.2f}\\n'.format(1/R))\n",
    "\n",
    "R = (A+0.8*a)/(E+a)\n",
    "print('R\\' = {:.2f}'.format(R))\n",
    "print('C\\' = 1/R\\' = {:.2f}'.format(1/R))"
   ]
  },
  {
   "cell_type": "markdown",
   "metadata": {},
   "source": [
    "### Exemplo de três grupos de filtro."
   ]
  },
  {
   "cell_type": "code",
   "execution_count": 29,
   "metadata": {},
   "outputs": [
    {
     "name": "stdout",
     "output_type": "stream",
     "text": [
      "{'<=50K': 9890, '>50K': 682, 'T': 10572}\n",
      "{'<=50K': 13049, '>50K': 6608, 'T': 19657}\n",
      "{'<=50K': 1781, '>50K': 551, 'T': 2332}\n"
     ]
    }
   ],
   "source": [
    "conds = []\n",
    "conds.append(df['age'] <= 30)\n",
    "conds.append((df['age'] > 30)&(df['age'] <= 60))\n",
    "conds.append(df['age'] > 60)\n",
    "target = []\n",
    "for cond in conds:\n",
    "    target.append(dict(df['income'].loc[cond].value_counts()))\n",
    "    target[-1]['T'] = target[-1]['>50K'] + target[-1]['<=50K']\n",
    "    print(target[-1])"
   ]
  },
  {
   "cell_type": "markdown",
   "metadata": {},
   "source": [
    "### Com diferentes estratégias de envio: para um ou outro e para todos."
   ]
  },
  {
   "cell_type": "code",
   "execution_count": 61,
   "metadata": {},
   "outputs": [
    {
     "name": "stdout",
     "output_type": "stream",
     "text": [
      "['<=50K', '>50K', '<=50K']\n",
      "E = 32,561\n",
      "A = 18,279\n",
      "R = 0.56\n",
      "C = 1.78 \n",
      "\n",
      "['<=50K', 'T', '<=50K']\n",
      "E = 52,218\n",
      "A = 31,328\n",
      "R = 0.60\n",
      "C = 1.67 \n",
      "\n",
      "['<=50K', 'T', 'T']\n",
      "E = 54,550\n",
      "A = 31,879\n",
      "R = 0.58\n",
      "C = 1.71 \n",
      "\n",
      "['T', 'T', 'T']\n",
      "E = 65,122\n",
      "A = 32,561\n",
      "R = 0.50\n",
      "C = 2.00 \n",
      "\n",
      "['>50K', '<=50K', '>50K']\n",
      "E = 32,561\n",
      "A = 14,282\n",
      "R = 0.44\n",
      "C = 2.28 \n",
      "\n"
     ]
    }
   ],
   "source": [
    "def results(G):\n",
    "    E = 0\n",
    "    A = 0\n",
    "    for i in range(3):\n",
    "        E += target[i]['T'] if 'T' not in G[i] else 2*target[i]['T']\n",
    "        A += target[i][G[i]]\n",
    "\n",
    "    R = A/E\n",
    "    C = 1/R\n",
    "    print(G)\n",
    "    print('E = {:,}'.format(E))\n",
    "    print('A = {:,}'.format(A))\n",
    "    print('R = {:.2f}'.format(R))\n",
    "    print('C = {:.2f} \\n'.format(C))\n",
    "    \n",
    "\n",
    "\n",
    "results(['<=50K','>50K','<=50K'])\n",
    "results(['<=50K','T','<=50K'])\n",
    "results(['<=50K','T','T'])\n",
    "results(['T','T','T'])\n",
    "results(['>50K','<=50K','>50K'])"
   ]
  },
  {
   "cell_type": "code",
   "execution_count": null,
   "metadata": {},
   "outputs": [],
   "source": []
  }
 ],
 "metadata": {
  "kernelspec": {
   "display_name": "Python 3",
   "language": "python",
   "name": "python3"
  },
  "language_info": {
   "codemirror_mode": {
    "name": "ipython",
    "version": 3
   },
   "file_extension": ".py",
   "mimetype": "text/x-python",
   "name": "python",
   "nbconvert_exporter": "python",
   "pygments_lexer": "ipython3",
   "version": "3.7.7"
  }
 },
 "nbformat": 4,
 "nbformat_minor": 4
}
