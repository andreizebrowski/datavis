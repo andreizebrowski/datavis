{
 "cells": [
  {
   "cell_type": "markdown",
   "metadata": {},
   "source": [
    "# Trilha 1: Titanic\n",
    "\n",
    "### Proposta:\n",
    "\n",
    "Mostrar que é possível ordenar os passeiros por risco de vida com base no acidente ocorrido com o navio de passageiros britânico RMS Titanic, no dia 15 de abril de 1912. Deve-se utilizar apenas recursos baseados em gráficos (comuns na visualização de dados).\n",
    "\n",
    "### Fundo conceitual:\n",
    "\n",
    "Poucos dias após o acidente, um novo navio de mesmo modelo fará uma viagem com mesmo local de partida e mesmo local de destino. Uma seguradora foi contratada para oferecer um seguro individual para cada passageiro. Um consultor dessa seguradora solicitou a algumas *startups* de ciência de dados que elaborassem um modelo que ordene os passageiros do Titanic em ordem de risco de vida e, a partir disso, mostrar quais características são mais discriminates para isso. O consultor quer ver quais são as tais características e um resumo do modelo (com as equações mais relevantes).\n",
    "\n",
    "### Entregável:\n",
    "\n",
    "- Se apresentação em telas (*slides*): uma tela de apresentação geral do grupo, uma tela para cada gráfico, uma tela para o resumo do modelo usado.\n",
    "- Se painel (*dashboard*): um painel com os gráficos e uma tela com o resumo modelo usado.\n",
    "\n",
    "#### Base de dados: \n",
    "\n",
    "- Kaggle, 'Titanic: Machine Learning from Disaster': https://www.kaggle.com/c/titanic/data\n",
    "\n",
    "- Stanford, CS109, 'A Titanic Probability': https://web.stanford.edu/class/archive/cs/cs109/cs109.1166/problem12.html\n"
   ]
  }
 ],
 "metadata": {
  "kernelspec": {
   "display_name": "Python 3",
   "language": "python",
   "name": "python3"
  },
  "language_info": {
   "codemirror_mode": {
    "name": "ipython",
    "version": 3
   },
   "file_extension": ".py",
   "mimetype": "text/x-python",
   "name": "python",
   "nbconvert_exporter": "python",
   "pygments_lexer": "ipython3",
   "version": "3.7.3"
  }
 },
 "nbformat": 4,
 "nbformat_minor": 2
}
