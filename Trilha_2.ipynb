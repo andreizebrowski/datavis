{
 "cells": [
  {
   "cell_type": "markdown",
   "metadata": {},
   "source": [
    "# Trilha 2: \n",
    "\n",
    "https://www.kaggle.com/uciml/adult-census-income\n",
    "\n",
    "https://www.kaggle.com/jiashenliu/who-can-earn-more-than-50k-per-year"
   ]
  },
  {
   "cell_type": "code",
   "execution_count": 1,
   "metadata": {},
   "outputs": [],
   "source": [
    "import pandas as pd"
   ]
  },
  {
   "cell_type": "code",
   "execution_count": 15,
   "metadata": {},
   "outputs": [],
   "source": [
    "df = pd.read_csv('adult.csv')"
   ]
  },
  {
   "cell_type": "code",
   "execution_count": 19,
   "metadata": {},
   "outputs": [],
   "source": [
    "target = dict(df['income'].value_counts())"
   ]
  },
  {
   "cell_type": "code",
   "execution_count": 21,
   "metadata": {},
   "outputs": [
    {
     "name": "stdout",
     "output_type": "stream",
     "text": [
      "{'<=50K': 24720, '>50K': 7841}\n"
     ]
    }
   ],
   "source": [
    "print(target)"
   ]
  },
  {
   "cell_type": "code",
   "execution_count": 27,
   "metadata": {},
   "outputs": [],
   "source": [
    "A_Lux_max = target['>50K']\n",
    "A_Pop_max = target['<=50K']\n",
    "Total_envios_min = A_Lux_max+A_Pop_max\n",
    "Total_envios_max = 2*Total_envios_min"
   ]
  },
  {
   "cell_type": "code",
   "execution_count": 28,
   "metadata": {},
   "outputs": [
    {
     "name": "stdout",
     "output_type": "stream",
     "text": [
      "1.0\n"
     ]
    }
   ],
   "source": [
    "R_max = (A_Lux_max+A_Pop_max)/Total_envios_min\n",
    "print(R_max)"
   ]
  },
  {
   "cell_type": "code",
   "execution_count": 30,
   "metadata": {},
   "outputs": [
    {
     "name": "stdout",
     "output_type": "stream",
     "text": [
      "0.5\n"
     ]
    }
   ],
   "source": [
    "R_min = (A_Lux_max+A_Pop_max)/Total_envios_max\n",
    "print(R_min)"
   ]
  },
  {
   "cell_type": "code",
   "execution_count": 39,
   "metadata": {},
   "outputs": [
    {
     "name": "stdout",
     "output_type": "stream",
     "text": [
      "1.0\n"
     ]
    }
   ],
   "source": [
    "CA_min = 1/R_max\n",
    "print(C_min)"
   ]
  },
  {
   "cell_type": "code",
   "execution_count": 40,
   "metadata": {},
   "outputs": [
    {
     "name": "stdout",
     "output_type": "stream",
     "text": [
      "2.0\n"
     ]
    }
   ],
   "source": [
    "CA_max = 1/R_min\n",
    "print(C_max)"
   ]
  },
  {
   "cell_type": "code",
   "execution_count": 47,
   "metadata": {},
   "outputs": [
    {
     "name": "stdout",
     "output_type": "stream",
     "text": [
      "R = 0.54\n",
      "C = 1.86\n",
      "R' = 0.55\n",
      "C' = 1.82\n"
     ]
    }
   ],
   "source": [
    "a = 1000\n",
    "\n",
    "A = int(0.7*(A_Lux_max+A_Pop_max))\n",
    "E = int(1.3*Total_envios_min)\n",
    "R = A/E\n",
    "C = 1/R\n",
    "print('R = {:.2f}'.format(R))\n",
    "print('C = {:.2f}'.format(C))\n",
    "\n",
    "R = (A+a)/(E+a)\n",
    "C = 1/R\n",
    "print('R\\' = {:.2f}'.format(R))\n",
    "print('C\\' = {:.2f}'.format(C))"
   ]
  },
  {
   "cell_type": "code",
   "execution_count": 51,
   "metadata": {},
   "outputs": [],
   "source": [
    "conds = []\n",
    "conds.append(df['age'] <= 30)\n",
    "conds.append((df['age'] > 30)&(df['age'] <= 60))\n",
    "conds.append(df['age'] > 60)"
   ]
  },
  {
   "cell_type": "code",
   "execution_count": 52,
   "metadata": {},
   "outputs": [
    {
     "data": {
      "text/plain": [
       "[]"
      ]
     },
     "execution_count": 52,
     "metadata": {},
     "output_type": "execute_result"
    }
   ],
   "source": [
    "target"
   ]
  },
  {
   "cell_type": "code",
   "execution_count": 54,
   "metadata": {},
   "outputs": [
    {
     "name": "stdout",
     "output_type": "stream",
     "text": [
      "{'<=50K': 9890, '>50K': 682, 'T': 10572}\n",
      "{'<=50K': 13049, '>50K': 6608, 'T': 19657}\n",
      "{'<=50K': 1781, '>50K': 551, 'T': 2332}\n"
     ]
    }
   ],
   "source": [
    "target = []\n",
    "for cond in conds:\n",
    "    target.append(dict(df['income'].loc[cond].value_counts()))\n",
    "    target[-1]['T'] = target[-1]['>50K'] + target[-1]['<=50K']\n",
    "    print(target[-1])"
   ]
  },
  {
   "cell_type": "code",
   "execution_count": 61,
   "metadata": {},
   "outputs": [
    {
     "name": "stdout",
     "output_type": "stream",
     "text": [
      "['<=50K', '>50K', '<=50K']\n",
      "E = 32,561\n",
      "A = 18,279\n",
      "R = 0.56\n",
      "C = 1.78 \n",
      "\n",
      "['<=50K', 'T', '<=50K']\n",
      "E = 52,218\n",
      "A = 31,328\n",
      "R = 0.60\n",
      "C = 1.67 \n",
      "\n",
      "['<=50K', 'T', 'T']\n",
      "E = 54,550\n",
      "A = 31,879\n",
      "R = 0.58\n",
      "C = 1.71 \n",
      "\n",
      "['T', 'T', 'T']\n",
      "E = 65,122\n",
      "A = 32,561\n",
      "R = 0.50\n",
      "C = 2.00 \n",
      "\n",
      "['>50K', '<=50K', '>50K']\n",
      "E = 32,561\n",
      "A = 14,282\n",
      "R = 0.44\n",
      "C = 2.28 \n",
      "\n"
     ]
    }
   ],
   "source": [
    "def results(G):\n",
    "    E = 0\n",
    "    A = 0\n",
    "    for i in range(3):\n",
    "        E += target[i]['T'] if 'T' not in G[i] else 2*target[i]['T']\n",
    "        A += target[i][G[i]]\n",
    "\n",
    "    R = A/E\n",
    "    C = 1/R\n",
    "    print(G)\n",
    "    print('E = {:,}'.format(E))\n",
    "    print('A = {:,}'.format(A))\n",
    "    print('R = {:.2f}'.format(R))\n",
    "    print('C = {:.2f} \\n'.format(C))\n",
    "    \n",
    "\n",
    "\n",
    "results(['<=50K','>50K','<=50K'])\n",
    "results(['<=50K','T','<=50K'])\n",
    "results(['<=50K','T','T'])\n",
    "results(['T','T','T'])\n",
    "results(['>50K','<=50K','>50K'])"
   ]
  },
  {
   "cell_type": "code",
   "execution_count": null,
   "metadata": {},
   "outputs": [],
   "source": []
  }
 ],
 "metadata": {
  "kernelspec": {
   "display_name": "Python 3",
   "language": "python",
   "name": "python3"
  },
  "language_info": {
   "codemirror_mode": {
    "name": "ipython",
    "version": 3
   },
   "file_extension": ".py",
   "mimetype": "text/x-python",
   "name": "python",
   "nbconvert_exporter": "python",
   "pygments_lexer": "ipython3",
   "version": "3.7.3"
  }
 },
 "nbformat": 4,
 "nbformat_minor": 2
}
